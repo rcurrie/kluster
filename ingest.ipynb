{
 "cells": [
  {
   "cell_type": "code",
   "execution_count": 38,
   "metadata": {
    "collapsed": true
   },
   "outputs": [],
   "source": [
    "import os\n",
    "import numpy as np\n",
    "import pandas as pd"
   ]
  },
  {
   "cell_type": "code",
   "execution_count": 15,
   "metadata": {
    "collapsed": true
   },
   "outputs": [],
   "source": [
    "# Install and import sourmash for kmer and minhash which includes screed for fastq access\n",
    "!pip -q install https://github.com/dib-lab/sourmash/archive/master.zip\n",
    "import sourmash_lib\n",
    "import screed"
   ]
  },
  {
   "cell_type": "code",
   "execution_count": 4,
   "metadata": {
    "collapsed": true
   },
   "outputs": [],
   "source": [
    "expression = pd.read_csv(\"/data/quake/expression.tsv\", \n",
    "                         sep=\"\\t\", index_col=0).dropna().astype(np.float32).T\n",
    "expression.to_hdf(\"/data/quake/expression.hd5\", \"expression\", mode=\"w\", format=\"fixed\")"
   ]
  },
  {
   "cell_type": "code",
   "execution_count": 6,
   "metadata": {},
   "outputs": [
    {
     "name": "stdout",
     "output_type": "stream",
     "text": [
      "(466, 38009)\n"
     ]
    },
    {
     "data": {
      "text/html": [
       "<div>\n",
       "<table border=\"1\" class=\"dataframe\">\n",
       "  <thead>\n",
       "    <tr style=\"text-align: right;\">\n",
       "      <th>transripts</th>\n",
       "      <th>ENSG00000281922</th>\n",
       "      <th>ENSG00000281919</th>\n",
       "      <th>ENSG00000281917</th>\n",
       "      <th>ENSG00000281913</th>\n",
       "      <th>ENSG00000281909</th>\n",
       "      <th>ENSG00000281901</th>\n",
       "      <th>ENSG00000281900</th>\n",
       "      <th>ENSG00000281899</th>\n",
       "      <th>ENSG00000281897</th>\n",
       "      <th>ENSG00000281896</th>\n",
       "      <th>...</th>\n",
       "      <th>ENSG00000001460</th>\n",
       "      <th>ENSG00000001167</th>\n",
       "      <th>ENSG00000001084</th>\n",
       "      <th>ENSG00000001036</th>\n",
       "      <th>ENSG00000000971</th>\n",
       "      <th>ENSG00000000938</th>\n",
       "      <th>ENSG00000000460</th>\n",
       "      <th>ENSG00000000457</th>\n",
       "      <th>ENSG00000000419</th>\n",
       "      <th>ENSG00000000005</th>\n",
       "    </tr>\n",
       "  </thead>\n",
       "  <tbody>\n",
       "    <tr>\n",
       "      <th>SRR1974543</th>\n",
       "      <td>0.0</td>\n",
       "      <td>0.0</td>\n",
       "      <td>1.0</td>\n",
       "      <td>0.0</td>\n",
       "      <td>0.0</td>\n",
       "      <td>0.000</td>\n",
       "      <td>0.0</td>\n",
       "      <td>0.0</td>\n",
       "      <td>0.0</td>\n",
       "      <td>0.0</td>\n",
       "      <td>...</td>\n",
       "      <td>76.999969</td>\n",
       "      <td>0.0</td>\n",
       "      <td>4.73626</td>\n",
       "      <td>402.0</td>\n",
       "      <td>0.0</td>\n",
       "      <td>0.0</td>\n",
       "      <td>0.000000</td>\n",
       "      <td>10.000000</td>\n",
       "      <td>0.0</td>\n",
       "      <td>0.0</td>\n",
       "    </tr>\n",
       "    <tr>\n",
       "      <th>SRR1974544</th>\n",
       "      <td>0.0</td>\n",
       "      <td>0.0</td>\n",
       "      <td>97.0</td>\n",
       "      <td>0.0</td>\n",
       "      <td>0.0</td>\n",
       "      <td>0.000</td>\n",
       "      <td>0.0</td>\n",
       "      <td>0.0</td>\n",
       "      <td>0.0</td>\n",
       "      <td>0.0</td>\n",
       "      <td>...</td>\n",
       "      <td>27.211639</td>\n",
       "      <td>0.0</td>\n",
       "      <td>7.07876</td>\n",
       "      <td>4.0</td>\n",
       "      <td>0.0</td>\n",
       "      <td>0.0</td>\n",
       "      <td>3.091290</td>\n",
       "      <td>10.010700</td>\n",
       "      <td>264.0</td>\n",
       "      <td>0.0</td>\n",
       "    </tr>\n",
       "    <tr>\n",
       "      <th>SRR1974545</th>\n",
       "      <td>0.0</td>\n",
       "      <td>0.0</td>\n",
       "      <td>0.0</td>\n",
       "      <td>0.0</td>\n",
       "      <td>0.0</td>\n",
       "      <td>0.000</td>\n",
       "      <td>0.0</td>\n",
       "      <td>0.0</td>\n",
       "      <td>0.0</td>\n",
       "      <td>0.0</td>\n",
       "      <td>...</td>\n",
       "      <td>4.458340</td>\n",
       "      <td>0.0</td>\n",
       "      <td>0.00000</td>\n",
       "      <td>43.0</td>\n",
       "      <td>0.0</td>\n",
       "      <td>0.0</td>\n",
       "      <td>1.086790</td>\n",
       "      <td>22.117500</td>\n",
       "      <td>0.0</td>\n",
       "      <td>0.0</td>\n",
       "    </tr>\n",
       "    <tr>\n",
       "      <th>SRR1974546</th>\n",
       "      <td>0.0</td>\n",
       "      <td>0.0</td>\n",
       "      <td>0.0</td>\n",
       "      <td>0.0</td>\n",
       "      <td>0.0</td>\n",
       "      <td>0.125</td>\n",
       "      <td>0.0</td>\n",
       "      <td>0.0</td>\n",
       "      <td>10.8</td>\n",
       "      <td>0.0</td>\n",
       "      <td>...</td>\n",
       "      <td>2.001170</td>\n",
       "      <td>0.0</td>\n",
       "      <td>1.88889</td>\n",
       "      <td>0.0</td>\n",
       "      <td>0.0</td>\n",
       "      <td>0.0</td>\n",
       "      <td>18.152599</td>\n",
       "      <td>23.400999</td>\n",
       "      <td>0.0</td>\n",
       "      <td>0.0</td>\n",
       "    </tr>\n",
       "    <tr>\n",
       "      <th>SRR1974547</th>\n",
       "      <td>0.0</td>\n",
       "      <td>0.0</td>\n",
       "      <td>0.5</td>\n",
       "      <td>0.0</td>\n",
       "      <td>0.0</td>\n",
       "      <td>0.000</td>\n",
       "      <td>0.0</td>\n",
       "      <td>0.0</td>\n",
       "      <td>0.0</td>\n",
       "      <td>0.0</td>\n",
       "      <td>...</td>\n",
       "      <td>0.000000</td>\n",
       "      <td>0.0</td>\n",
       "      <td>45.25983</td>\n",
       "      <td>10.0</td>\n",
       "      <td>3.0</td>\n",
       "      <td>0.0</td>\n",
       "      <td>2.074410</td>\n",
       "      <td>17.093800</td>\n",
       "      <td>186.0</td>\n",
       "      <td>0.0</td>\n",
       "    </tr>\n",
       "  </tbody>\n",
       "</table>\n",
       "<p>5 rows × 38009 columns</p>\n",
       "</div>"
      ],
      "text/plain": [
       "transripts  ENSG00000281922  ENSG00000281919  ENSG00000281917  \\\n",
       "SRR1974543              0.0              0.0              1.0   \n",
       "SRR1974544              0.0              0.0             97.0   \n",
       "SRR1974545              0.0              0.0              0.0   \n",
       "SRR1974546              0.0              0.0              0.0   \n",
       "SRR1974547              0.0              0.0              0.5   \n",
       "\n",
       "transripts  ENSG00000281913  ENSG00000281909  ENSG00000281901  \\\n",
       "SRR1974543              0.0              0.0            0.000   \n",
       "SRR1974544              0.0              0.0            0.000   \n",
       "SRR1974545              0.0              0.0            0.000   \n",
       "SRR1974546              0.0              0.0            0.125   \n",
       "SRR1974547              0.0              0.0            0.000   \n",
       "\n",
       "transripts  ENSG00000281900  ENSG00000281899  ENSG00000281897  \\\n",
       "SRR1974543              0.0              0.0              0.0   \n",
       "SRR1974544              0.0              0.0              0.0   \n",
       "SRR1974545              0.0              0.0              0.0   \n",
       "SRR1974546              0.0              0.0             10.8   \n",
       "SRR1974547              0.0              0.0              0.0   \n",
       "\n",
       "transripts  ENSG00000281896       ...         ENSG00000001460  \\\n",
       "SRR1974543              0.0       ...               76.999969   \n",
       "SRR1974544              0.0       ...               27.211639   \n",
       "SRR1974545              0.0       ...                4.458340   \n",
       "SRR1974546              0.0       ...                2.001170   \n",
       "SRR1974547              0.0       ...                0.000000   \n",
       "\n",
       "transripts  ENSG00000001167  ENSG00000001084  ENSG00000001036  \\\n",
       "SRR1974543              0.0          4.73626            402.0   \n",
       "SRR1974544              0.0          7.07876              4.0   \n",
       "SRR1974545              0.0          0.00000             43.0   \n",
       "SRR1974546              0.0          1.88889              0.0   \n",
       "SRR1974547              0.0         45.25983             10.0   \n",
       "\n",
       "transripts  ENSG00000000971  ENSG00000000938  ENSG00000000460  \\\n",
       "SRR1974543              0.0              0.0         0.000000   \n",
       "SRR1974544              0.0              0.0         3.091290   \n",
       "SRR1974545              0.0              0.0         1.086790   \n",
       "SRR1974546              0.0              0.0        18.152599   \n",
       "SRR1974547              3.0              0.0         2.074410   \n",
       "\n",
       "transripts  ENSG00000000457  ENSG00000000419  ENSG00000000005  \n",
       "SRR1974543        10.000000              0.0              0.0  \n",
       "SRR1974544        10.010700            264.0              0.0  \n",
       "SRR1974545        22.117500              0.0              0.0  \n",
       "SRR1974546        23.400999              0.0              0.0  \n",
       "SRR1974547        17.093800            186.0              0.0  \n",
       "\n",
       "[5 rows x 38009 columns]"
      ]
     },
     "execution_count": 6,
     "metadata": {},
     "output_type": "execute_result"
    }
   ],
   "source": [
    "print(expression.shape)\n",
    "expression.head()"
   ]
  },
  {
   "cell_type": "code",
   "execution_count": 7,
   "metadata": {},
   "outputs": [
    {
     "data": {
      "text/plain": [
       "'SRR1974543'"
      ]
     },
     "execution_count": 7,
     "metadata": {},
     "output_type": "execute_result"
    }
   ],
   "source": [
    "expression.index[0]"
   ]
  },
  {
   "cell_type": "code",
   "execution_count": 21,
   "metadata": {},
   "outputs": [
    {
     "data": {
      "text/plain": [
       "True"
      ]
     },
     "execution_count": 21,
     "metadata": {},
     "output_type": "execute_result"
    }
   ],
   "source": [
    "os.path.exists(\"/data/quake/fastqs/{}_1.fastq.gz\".format(expression.index[0]))"
   ]
  },
  {
   "cell_type": "code",
   "execution_count": 36,
   "metadata": {},
   "outputs": [
    {
     "name": "stdout",
     "output_type": "stream",
     "text": [
      "CPU times: user 2min 18s, sys: 76 ms, total: 2min 18s\n",
      "Wall time: 2min 18s\n"
     ]
    }
   ],
   "source": [
    "%%time\n",
    "E = sourmash_lib.MinHash(n=500, ksize=31)\n",
    "with screed.open(\"/data/quake/fastqs/{}_1.fastq.gz\".format(expression.index[0])) as sequence:\n",
    "    for record in sequence:\n",
    "        E.add_sequence(record.sequence[:50000], True)"
   ]
  }
 ],
 "metadata": {
  "kernelspec": {
   "display_name": "Python 3",
   "language": "python",
   "name": "python3"
  },
  "language_info": {
   "codemirror_mode": {
    "name": "ipython",
    "version": 3
   },
   "file_extension": ".py",
   "mimetype": "text/x-python",
   "name": "python",
   "nbconvert_exporter": "python",
   "pygments_lexer": "ipython3",
   "version": "3.5.2"
  }
 },
 "nbformat": 4,
 "nbformat_minor": 2
}
